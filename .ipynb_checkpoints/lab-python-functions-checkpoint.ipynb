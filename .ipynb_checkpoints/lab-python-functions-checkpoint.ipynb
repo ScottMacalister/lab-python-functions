{
 "cells": [
  {
   "cell_type": "markdown",
   "id": "25d7736c-ba17-4aff-b6bb-66eba20fbf4e",
   "metadata": {},
   "source": [
    "# Lab | Functions"
   ]
  },
  {
   "cell_type": "markdown",
   "id": "0c581062-8967-4d93-b06e-62833222f930",
   "metadata": {
    "tags": []
   },
   "source": [
    "## Exercise: Managing Customer Orders with Functions\n",
    "\n",
    "In the previous exercise, you improved the code for managing customer orders by using loops and flow control. Now, let's take it a step further and refactor the code by introducing functions.\n",
    "\n",
    "Follow the steps below to complete the exercise:\n",
    "\n",
    "1. Define a function named `initialize_inventory` that takes `products` as a parameter. Inside the function, implement the code for initializing the inventory dictionary using a loop and user input.\n",
    "\n",
    "2. Define a function named `get_customer_orders` that takes no parameters. Inside the function, implement the code for prompting the user to enter the product names using a loop. The function should return the `customer_orders` set.\n",
    "\n",
    "3. Define a function named `update_inventory` that takes `customer_orders` and `inventory` as parameters. Inside the function, implement the code for updating the inventory dictionary based on the customer orders.\n",
    "\n",
    "4. Define a function named `calculate_order_statistics` that takes `customer_orders` and `products` as parameters. Inside the function, implement the code for calculating the order statistics (total products ordered, and percentage of unique products ordered). The function should return these values.\n",
    "\n",
    "5. Define a function named `print_order_statistics` that takes `order_statistics` as a parameter. Inside the function, implement the code for printing the order statistics.\n",
    "\n",
    "6. Define a function named `print_updated_inventory` that takes `inventory` as a parameter. Inside the function, implement the code for printing the updated inventory.\n",
    "\n",
    "7. Call the functions in the appropriate sequence to execute the program and manage customer orders.\n",
    "\n",
    "Hints for functions:\n",
    "\n",
    "- Consider the input parameters required for each function and their return values.\n",
    "- Utilize function parameters and return values to transfer data between functions.\n",
    "- Test your functions individually to ensure they work correctly.\n",
    "\n",
    "\n"
   ]
  },
  {
   "cell_type": "code",
   "execution_count": 3,
   "id": "e0897321-007f-47af-a3c0-cf2fb29b25ca",
   "metadata": {},
   "outputs": [],
   "source": [
    "def initialize_inventory(products):\n",
    "    inventory = {}\n",
    "    for product in products:\n",
    "        quantity = int(input(f\"How many {product}s are in stock? Please enter an integer.\"))\n",
    "        inventory[product] = quantity\n",
    "    return inventory"
   ]
  },
  {
   "cell_type": "code",
   "execution_count": 4,
   "id": "55e154a1-bfa9-433e-9ca2-cf6c99e27539",
   "metadata": {},
   "outputs": [
    {
     "name": "stdin",
     "output_type": "stream",
     "text": [
      "How many t-shirts are in stock? Please enter an integer. 10\n",
      "How many mugs are in stock? Please enter an integer. 10\n",
      "How many hats are in stock? Please enter an integer. 10\n",
      "How many books are in stock? Please enter an integer. 10\n",
      "How many keychains are in stock? Please enter an integer. 10\n"
     ]
    },
    {
     "name": "stdout",
     "output_type": "stream",
     "text": [
      "{'t-shirt': 10, 'mug': 10, 'hat': 10, 'book': 10, 'keychain': 10}\n"
     ]
    }
   ],
   "source": [
    "inventory = initialize_inventory([\"t-shirt\", \"mug\", \"hat\", \"book\", \"keychain\"])\n",
    "print(inventory)"
   ]
  },
  {
   "cell_type": "code",
   "execution_count": 5,
   "id": "79f6187b-0a01-4258-b084-af4adf61d188",
   "metadata": {},
   "outputs": [],
   "source": [
    "def get_customer_orders():\n",
    "    customer_orders = set()\n",
    "    for i in range(3):\n",
    "        order = input(\"Input the name of a product you would like to order from this list:\\nt-shirt, mug, hat, book, keychain\")\n",
    "        customer_orders.add(order)\n",
    "    return customer_orders"
   ]
  },
  {
   "cell_type": "code",
   "execution_count": 6,
   "id": "a5fd5177-66f6-45dc-bcba-764c4951d25e",
   "metadata": {},
   "outputs": [
    {
     "name": "stdin",
     "output_type": "stream",
     "text": [
      "Input the name of a product you would like to order from this list:\n",
      "t-shirt, mug, hat, book, keychain mug\n",
      "Input the name of a product you would like to order from this list:\n",
      "t-shirt, mug, hat, book, keychain hat\n",
      "Input the name of a product you would like to order from this list:\n",
      "t-shirt, mug, hat, book, keychain book\n"
     ]
    },
    {
     "name": "stdout",
     "output_type": "stream",
     "text": [
      "{'mug', 'hat', 'book'}\n"
     ]
    }
   ],
   "source": [
    "customer_orders = get_customer_orders()\n",
    "print(customer_orders)"
   ]
  },
  {
   "cell_type": "code",
   "execution_count": 7,
   "id": "74e15072-229c-47e7-9d9f-e477082de894",
   "metadata": {},
   "outputs": [],
   "source": [
    "def update_inventory(customer_orders, inventory):\n",
    "    for product in customer_orders:\n",
    "        inventory[product] = inventory[product] - 1\n",
    "    return inventory"
   ]
  },
  {
   "cell_type": "code",
   "execution_count": 8,
   "id": "b418c730-9e21-4aef-8958-534bf9818fd1",
   "metadata": {},
   "outputs": [],
   "source": [
    "def calculate_order_statistics(customer_orders):\n",
    "    total_products = len(customer_orders)\n",
    "    percentage_products = total_products * 20\n",
    "    return (total_products, percentage_products)"
   ]
  },
  {
   "cell_type": "code",
   "execution_count": 9,
   "id": "0bc010ed-2827-4527-b65f-12bc0dc24fab",
   "metadata": {},
   "outputs": [
    {
     "name": "stdout",
     "output_type": "stream",
     "text": [
      "(3, 60)\n"
     ]
    }
   ],
   "source": [
    "order_statistics = calculate_order_statistics(customer_orders)\n",
    "print(order_statistics)"
   ]
  },
  {
   "cell_type": "code",
   "execution_count": 10,
   "id": "6e928070-9dd5-45b8-aa67-295bc7a9ca10",
   "metadata": {},
   "outputs": [],
   "source": [
    "def print_order_statistics(order_statistics):\n",
    "    return print(f\"Order Statistics:\\nTotal Products Ordered: {order_statistics[0]}\\nPercentage of Products Ordered: {order_statistics[1]}%\")"
   ]
  },
  {
   "cell_type": "code",
   "execution_count": 11,
   "id": "f89cd37e-bc9d-4809-b0d0-3ed8fb0f57a2",
   "metadata": {},
   "outputs": [
    {
     "name": "stdout",
     "output_type": "stream",
     "text": [
      "Order Statistics:\n",
      "Total Products Ordered: 3\n",
      "Percentage of Products Ordered: 60%\n"
     ]
    }
   ],
   "source": [
    "print_order = print_order_statistics(order_statistics)"
   ]
  },
  {
   "cell_type": "code",
   "execution_count": 12,
   "id": "c5ba83c6-5648-4121-b0e2-2537025a6d73",
   "metadata": {},
   "outputs": [
    {
     "name": "stdout",
     "output_type": "stream",
     "text": [
      "{'t-shirt': 10, 'mug': 9, 'hat': 9, 'book': 9, 'keychain': 10}\n"
     ]
    }
   ],
   "source": [
    "updated_inventory = update_inventory(customer_orders, inventory)\n",
    "print(updated_inventory)"
   ]
  }
 ],
 "metadata": {
  "kernelspec": {
   "display_name": "Python 3 (ipykernel)",
   "language": "python",
   "name": "python3"
  },
  "language_info": {
   "codemirror_mode": {
    "name": "ipython",
    "version": 3
   },
   "file_extension": ".py",
   "mimetype": "text/x-python",
   "name": "python",
   "nbconvert_exporter": "python",
   "pygments_lexer": "ipython3",
   "version": "3.12.4"
  }
 },
 "nbformat": 4,
 "nbformat_minor": 5
}
